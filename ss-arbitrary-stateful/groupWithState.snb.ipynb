{
  "metadata" : {
    "id" : "66e1a423-0f77-4af3-ad0a-c0170c9ac6ba",
    "name" : "groupWithState",
    "user_save_timestamp" : "1970-01-01T01:00:00.000Z",
    "auto_save_timestamp" : "1970-01-01T01:00:00.000Z",
    "language_info" : {
      "name" : "scala",
      "file_extension" : "scala",
      "codemirror_mode" : "text/x-scala"
    },
    "trusted" : true,
    "sparkNotebook" : null,
    "customLocalRepo" : null,
    "customRepos" : null,
    "customDeps" : null,
    "customImports" : null,
    "customArgs" : null,
    "customSparkConf" : null,
    "customVars" : null
  },
  "cells" : [ {
    "metadata" : {
      "trusted" : true,
      "input_collapsed" : false,
      "collapsed" : true,
      "id" : "8E5681568DB847A58F41D34E605D7EA4"
    },
    "cell_type" : "code",
    "source" : [ "import java.sql.Timestamp\n", "case class Coordinates(lat:Double, lon: Double) {\n", "  val R = 6378.137 \n", "  def distanceTo(other: Coordinates): Double = {\n", "    def sqr(x: Double): Double = Math.pow(x,2.0)\n", "    def rad(x: Double): Double = x *  Math.PI / 180     \n", "    val deltaLat = rad(other.lat) - rad(this.lat)\n", "    val deltaLon = rad(other.lon) - rad(this.lon)\n", "    val a = sqr(Math.sin(deltaLat/2)) + Math.cos(rad(this.lat)) * Math.cos(rad(other.lat)) *\n", "      sqr(Math.sin(deltaLon/2))\n", "    val c = 2 * Math.atan2(Math.sqrt(a), Math.sqrt(1-a))\n", "    R * c * 1000// result in meters\n", "  }\n", "}" ],
    "outputs" : [ ]
  }, {
    "metadata" : {
      "trusted" : true,
      "input_collapsed" : false,
      "collapsed" : true,
      "id" : "04F52045598041C6896F9229EFAA70D4"
    },
    "cell_type" : "code",
    "source" : [ "case class CarLocation(id:String, timestamp: Timestamp, location: Coordinates)" ],
    "outputs" : [ ]
  }, {
    "metadata" : {
      "trusted" : true,
      "input_collapsed" : false,
      "collapsed" : true,
      "id" : "85A2C8E377E34B75A79C9E03AD7D61D0"
    },
    "cell_type" : "code",
    "source" : [ "case class TimeLocation(time: Timestamp, location: Coordinates) {\n", "  def speedTo(other: TimeLocation): Double = {\n", "    if (other.time == this.time) 0.0 else {\n", "      val distance = location.distanceTo(other.location) // mts\n", "      val deltaT = Math.abs(time.getTime - other.time.getTime) / 1000 // seconds\n", "      distance/deltaT * 3.6 // km/h\n", "    }\n", "  }\n", "}" ],
    "outputs" : [ ]
  }, {
    "metadata" : {
      "trusted" : true,
      "input_collapsed" : false,
      "collapsed" : false,
      "id" : "563894913AD5425F8F57B3CFDF9C5847"
    },
    "cell_type" : "code",
    "source" : [ "case class TripState(id: String, start: TimeLocation, current: TimeLocation, end: Option[TimeLocation] = None)" ],
    "outputs" : [ {
      "name" : "stdout",
      "output_type" : "stream",
      "text" : "import java.sql.Timestamp\ndefined class Coordinates\ndefined class CarLocation\ndefined class TimeLocation\ndefined class TripState\n"
    }, {
      "metadata" : { },
      "data" : {
        "text/html" : ""
      },
      "output_type" : "execute_result",
      "execution_count" : 2,
      "time" : "Took: 0.942s, at 2018-07-04 23:00"
    } ]
  }, {
    "metadata" : {
      "trusted" : true,
      "input_collapsed" : false,
      "collapsed" : false,
      "id" : "D0D4B4ACCCB5423899CE17AD4725BBBF"
    },
    "cell_type" : "code",
    "source" : [ "val bxl = Coordinates(50.8503, 4.3517)\n", "val antwerp = Coordinates(51.2194,4.4025)" ],
    "outputs" : [ {
      "name" : "stdout",
      "output_type" : "stream",
      "text" : "bxl: Coordinates = Coordinates(50.8503,4.3517)\nantwerp: Coordinates = Coordinates(51.2194,4.4025)\n"
    }, {
      "metadata" : { },
      "data" : {
        "text/html" : ""
      },
      "output_type" : "execute_result",
      "execution_count" : 3,
      "time" : "Took: 0.726s, at 2018-07-04 23:00"
    } ]
  }, {
    "metadata" : {
      "trusted" : true,
      "input_collapsed" : false,
      "collapsed" : false,
      "id" : "4C0DA30EC0DA4E60BF8DDF75981466D2"
    },
    "cell_type" : "code",
    "source" : [ "bxl.distanceTo(antwerp)" ],
    "outputs" : [ {
      "name" : "stdout",
      "output_type" : "stream",
      "text" : "res4: Double = 41241.62572838361\n"
    }, {
      "metadata" : { },
      "data" : {
        "text/html" : "41241.62572838361"
      },
      "output_type" : "execute_result",
      "execution_count" : 4,
      "time" : "Took: 0.872s, at 2018-07-04 23:00"
    } ]
  }, {
    "metadata" : {
      "trusted" : true,
      "input_collapsed" : false,
      "collapsed" : false,
      "id" : "2D70B8BEBD8E44FA883F1EFE1714C833"
    },
    "cell_type" : "code",
    "source" : [ "val now = System.currentTimeMillis\n", "val bxlPickup = TimeLocation(new Timestamp(now), bxl)\n", "val antwerpDrop = TimeLocation(new Timestamp(now + 30*60*1000), antwerp)" ],
    "outputs" : [ {
      "name" : "stdout",
      "output_type" : "stream",
      "text" : "now: Long = 1530738049534\nbxlPickup: TimeLocation = TimeLocation(2018-07-04 23:00:49.534,Coordinates(50.8503,4.3517))\nantwerpDrop: TimeLocation = TimeLocation(2018-07-04 23:30:49.534,Coordinates(51.2194,4.4025))\n"
    }, {
      "metadata" : { },
      "data" : {
        "text/html" : ""
      },
      "output_type" : "execute_result",
      "execution_count" : 5,
      "time" : "Took: 0.834s, at 2018-07-04 23:00"
    } ]
  }, {
    "metadata" : {
      "trusted" : true,
      "input_collapsed" : false,
      "collapsed" : false,
      "id" : "8982B958C9EF499686FAB6EAAAACEDD0"
    },
    "cell_type" : "code",
    "source" : [ "val adrop = antwerpDrop.speedTo(bxlPickup) " ],
    "outputs" : [ {
      "name" : "stdout",
      "output_type" : "stream",
      "text" : "adrop: Double = 22.91201429354645\n"
    }, {
      "metadata" : { },
      "data" : {
        "text/html" : ""
      },
      "output_type" : "execute_result",
      "execution_count" : 12,
      "time" : "Took: 0.490s, at 2018-07-04 23:06"
    } ]
  }, {
    "metadata" : {
      "trusted" : true,
      "input_collapsed" : false,
      "collapsed" : false,
      "id" : "3A753C1DD5294BB48D4DB5DFD9BA12F6"
    },
    "cell_type" : "code",
    "source" : [ "adrop * 3.6 //km/h" ],
    "outputs" : [ {
      "name" : "stdout",
      "output_type" : "stream",
      "text" : "res19: Double = 82.48325145676722\n"
    }, {
      "metadata" : { },
      "data" : {
        "text/html" : "82.48325145676722"
      },
      "output_type" : "execute_result",
      "execution_count" : 13,
      "time" : "Took: 0.630s, at 2018-07-04 23:06"
    } ]
  }, {
    "metadata" : {
      "trusted" : true,
      "input_collapsed" : false,
      "collapsed" : false,
      "id" : "D48401133D604D4E881D929253E1588E"
    },
    "cell_type" : "code",
    "source" : [ "def updateStateWithEvent(state: TripState, event: CarLocation): TripState = {\n", "  state.current.time.compareTo(event.timestamp) match {\n", "    case 0 =>  // same timestamp => do nothing, return same state\n", "      state\n", "    case -1 => // state.currentTime < event.timestamp => check update of start time\n", "      if (state.start.time.before(event.timestamp)) {\n", "        state.copy(start = TimeLocation(event.timestamp, event.location))\n", "      } else {\n", "        state\n", "      }\n", "    case 1 => // state.current.time > event.timestamp => update state\n", "      val currentTimeLocation = TimeLocation(event.timestamp, event.location)\n", "      if (state.current.speedTo(currentTimeLocation) < 1) { // improve the heuristic here\n", "        state.copy(current = currentTimeLocation, end = Some(currentTimeLocation))\n", "      } else {\n", "        state.copy(current = currentTimeLocation)\n", "      }\n", "  }\n", "}" ],
    "outputs" : [ {
      "name" : "stdout",
      "output_type" : "stream",
      "text" : "updateStateWithEvent: (state: TripState, event: CarLocation)TripState\n"
    }, {
      "metadata" : { },
      "data" : {
        "text/html" : ""
      },
      "output_type" : "execute_result",
      "execution_count" : 23,
      "time" : "Took: 0.507s, at 2018-07-04 23:25"
    } ]
  }, {
    "metadata" : {
      "trusted" : true,
      "input_collapsed" : false,
      "collapsed" : false,
      "id" : "4DDCF76C5FCA4B78B11C3C3E79B01D3D"
    },
    "cell_type" : "code",
    "source" : [ "import org.apache.spark.sql.streaming.{GroupStateTimeout, OutputMode, GroupState}\n", "\n", "def updateAcrossEvents(id: String,\n", "    inputs: Iterator[CarLocation],\n", "     oldState: GroupState[CarState]): CarState = {\n", "     val state: CarState = if (oldState.exists) oldState.get else CarState(id,\n", "        \"\",\n", "        new java.sql.Timestamp(6284160000000L),\n", "        new java.sql.Timestamp(6284160L)\n", "    )\n", "  // we simply specify an old date that we can compare against and\n", "  // immediately update based on the values in our data\n", "\n", "  for (input <- inputs) {\n", "    state = updateUserStateWithEvent(state, input)\n", "    oldState.update(state)\n", "  }\n", "  state\n", "}" ],
    "outputs" : [ {
      "name" : "stdout",
      "output_type" : "stream",
      "text" : "import org.apache.spark.sql.streaming.{GroupStateTimeout, OutputMode, GroupState}\nupdateAcrossEvents: (user: String, inputs: Iterator[InputRow], oldState: org.apache.spark.sql.streaming.GroupState[UserState])UserState\n"
    }, {
      "metadata" : { },
      "data" : {
        "text/html" : ""
      },
      "output_type" : "execute_result",
      "execution_count" : 3,
      "time" : "Took: 0.951s, at 2018-07-01 23:17"
    } ]
  }, {
    "metadata" : {
      "trusted" : true,
      "input_collapsed" : false,
      "collapsed" : false,
      "id" : "B3A30AF1E761480191ABF7440177F8AE"
    },
    "cell_type" : "code",
    "source" : [ "val t1 = new Timestamp(System.currentTimeMillis)" ],
    "outputs" : [ {
      "name" : "stdout",
      "output_type" : "stream",
      "text" : "t1: java.sql.Timestamp = 2018-07-04 17:28:28.389\n"
    }, {
      "metadata" : { },
      "data" : {
        "text/html" : ""
      },
      "output_type" : "execute_result",
      "execution_count" : 14,
      "time" : "Took: 0.466s, at 2018-07-04 17:28"
    } ]
  }, {
    "metadata" : {
      "trusted" : true,
      "input_collapsed" : false,
      "collapsed" : false,
      "id" : "DD0CE99CA15A4D17861CF7DA6EFF5074"
    },
    "cell_type" : "code",
    "source" : [ "val t2 = new Timestamp(System.currentTimeMillis) " ],
    "outputs" : [ {
      "name" : "stdout",
      "output_type" : "stream",
      "text" : "t2: java.sql.Timestamp = 2018-07-04 17:28:49.089\n"
    }, {
      "metadata" : { },
      "data" : {
        "text/html" : ""
      },
      "output_type" : "execute_result",
      "execution_count" : 15,
      "time" : "Took: 0.490s, at 2018-07-04 17:28"
    } ]
  }, {
    "metadata" : {
      "trusted" : true,
      "input_collapsed" : false,
      "collapsed" : false,
      "id" : "85A17E43F8EA4091A57AB54EEA5DD847"
    },
    "cell_type" : "code",
    "source" : [ "t2.compareTo(t1)" ],
    "outputs" : [ {
      "name" : "stdout",
      "output_type" : "stream",
      "text" : "res29: Int = 1\n"
    }, {
      "metadata" : { },
      "data" : {
        "text/html" : "1"
      },
      "output_type" : "execute_result",
      "execution_count" : 19,
      "time" : "Took: 0.559s, at 2018-07-04 17:29"
    } ]
  }, {
    "metadata" : {
      "trusted" : true,
      "input_collapsed" : false,
      "collapsed" : false,
      "id" : "792E13F74244488086FE27BC1D1175D1"
    },
    "cell_type" : "code",
    "source" : [ "" ],
    "outputs" : [ {
      "metadata" : { },
      "data" : {
        "text/html" : ""
      },
      "output_type" : "execute_result",
      "execution_count" : 6,
      "time" : "Took: 1.056s, at 2018-07-04 23:01"
    } ]
  }, {
    "metadata" : {
      "trusted" : true,
      "input_collapsed" : false,
      "collapsed" : false,
      "id" : "F26C42ACE5C4444C8BF68FC7F555765D"
    },
    "cell_type" : "code",
    "source" : [ "" ],
    "outputs" : [ {
      "metadata" : { },
      "data" : {
        "text/html" : ""
      },
      "output_type" : "execute_result",
      "execution_count" : 7,
      "time" : "Took: 0.886s, at 2018-07-04 23:01"
    } ]
  }, {
    "metadata" : {
      "trusted" : true,
      "input_collapsed" : false,
      "collapsed" : false,
      "id" : "10F68E58FA4B4D80AAD6C5F86BC8B140"
    },
    "cell_type" : "code",
    "source" : [ "" ],
    "outputs" : [ {
      "metadata" : { },
      "data" : {
        "text/html" : ""
      },
      "output_type" : "execute_result",
      "execution_count" : 8,
      "time" : "Took: 0.895s, at 2018-07-04 23:01"
    } ]
  }, {
    "metadata" : {
      "trusted" : true,
      "input_collapsed" : false,
      "collapsed" : false,
      "id" : "D7B4F5B56232459284ACC8617018017A"
    },
    "cell_type" : "code",
    "source" : [ "" ],
    "outputs" : [ {
      "metadata" : { },
      "data" : {
        "text/html" : ""
      },
      "output_type" : "execute_result",
      "execution_count" : 9,
      "time" : "Took: 0.903s, at 2018-07-04 23:01"
    } ]
  }, {
    "metadata" : {
      "trusted" : true,
      "input_collapsed" : false,
      "collapsed" : true,
      "id" : "6D8073E60DAC4B88AA8CC9AE410813C1"
    },
    "cell_type" : "code",
    "source" : [ "\n" ],
    "outputs" : [ ]
  } ],
  "nbformat" : 4
}