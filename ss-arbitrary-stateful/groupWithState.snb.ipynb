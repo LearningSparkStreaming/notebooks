{
  "metadata" : {
    "id" : "66e1a423-0f77-4af3-ad0a-c0170c9ac6ba",
    "name" : "groupWithState",
    "user_save_timestamp" : "1970-01-01T01:00:00.000Z",
    "auto_save_timestamp" : "1970-01-01T01:00:00.000Z",
    "language_info" : {
      "name" : "scala",
      "file_extension" : "scala",
      "codemirror_mode" : "text/x-scala"
    },
    "trusted" : true,
    "sparkNotebook" : null,
    "customLocalRepo" : null,
    "customRepos" : null,
    "customDeps" : null,
    "customImports" : null,
    "customArgs" : null,
    "customSparkConf" : null,
    "customVars" : null
  },
  "cells" : [ {
    "metadata" : {
      "trusted" : true,
      "input_collapsed" : false,
      "collapsed" : false,
      "id" : "14B9243DA4034CE18D240840D14B2C72"
    },
    "cell_type" : "code",
    "source" : [ "val data = sparkSession.read.csv(\"/home/maasg/Data/T-Drive/release/taxi_log_2008_by_id/1.txt\").toDF(\"id\", \"ts\",\"lon\",\"lat\")" ],
    "outputs" : [ {
      "name" : "stdout",
      "output_type" : "stream",
      "text" : "data: org.apache.spark.sql.DataFrame = [id: string, ts: string ... 2 more fields]\n"
    }, {
      "metadata" : { },
      "data" : {
        "text/html" : ""
      },
      "output_type" : "execute_result",
      "execution_count" : 1,
      "time" : "Took: 3.629s, at 2018-07-06 01:11"
    } ]
  }, {
    "metadata" : {
      "trusted" : true,
      "input_collapsed" : false,
      "collapsed" : false,
      "id" : "3F815DF6931B45A4892496527E11CB89"
    },
    "cell_type" : "code",
    "source" : [ "data.show(5)" ],
    "outputs" : [ {
      "name" : "stdout",
      "output_type" : "stream",
      "text" : "+---+-------------------+---------+--------+\n| id|                 ts|      lon|     lat|\n+---+-------------------+---------+--------+\n|  1|2008-02-02 15:36:08|116.51172|39.92123|\n|  1|2008-02-02 15:46:08|116.51135|39.93883|\n|  1|2008-02-02 15:46:08|116.51135|39.93883|\n|  1|2008-02-02 15:56:08|116.51627|39.91034|\n|  1|2008-02-02 16:06:08|116.47186|39.91248|\n+---+-------------------+---------+--------+\nonly showing top 5 rows\n\n"
    }, {
      "metadata" : { },
      "data" : {
        "text/html" : ""
      },
      "output_type" : "execute_result",
      "execution_count" : 2,
      "time" : "Took: 1.510s, at 2018-07-06 01:11"
    } ]
  }, {
    "metadata" : {
      "trusted" : true,
      "input_collapsed" : false,
      "collapsed" : false,
      "id" : "E24F1352071C4D8E86EBE0F47AF1D58E"
    },
    "cell_type" : "code",
    "source" : [ "data.count" ],
    "outputs" : [ {
      "name" : "stdout",
      "output_type" : "stream",
      "text" : "res4: Long = 588\n"
    }, {
      "metadata" : { },
      "data" : {
        "text/html" : "588"
      },
      "output_type" : "execute_result",
      "execution_count" : 3,
      "time" : "Took: 1.377s, at 2018-07-06 01:11"
    } ]
  }, {
    "metadata" : {
      "trusted" : true,
      "input_collapsed" : false,
      "collapsed" : false,
      "id" : "81DD0F81BB6941EB9E08665812B18778"
    },
    "cell_type" : "code",
    "source" : [ "val formattedData = data.select($\"id\", $\"ts\".cast(\"Timestamp\").as(\"timestamp\"), \n", "                                struct($\"lat\".cast(\"Double\").as(\"lat\"),$\"lon\".cast(\"Double\").as(\"lon\")).as(\"location\"))" ],
    "outputs" : [ {
      "name" : "stdout",
      "output_type" : "stream",
      "text" : "formattedData: org.apache.spark.sql.DataFrame = [id: string, timestamp: timestamp ... 1 more field]\n"
    }, {
      "metadata" : { },
      "data" : {
        "text/html" : ""
      },
      "output_type" : "execute_result",
      "execution_count" : 4,
      "time" : "Took: 0.934s, at 2018-07-06 01:11"
    } ]
  }, {
    "metadata" : {
      "trusted" : true,
      "input_collapsed" : false,
      "collapsed" : false,
      "id" : "E9FC4820A5EE486982007E09C2D59844"
    },
    "cell_type" : "code",
    "source" : [ "formattedData.printSchema" ],
    "outputs" : [ {
      "name" : "stdout",
      "output_type" : "stream",
      "text" : "root\n |-- id: string (nullable = true)\n |-- timestamp: timestamp (nullable = true)\n |-- location: struct (nullable = false)\n |    |-- lat: double (nullable = true)\n |    |-- lon: double (nullable = true)\n\n"
    }, {
      "metadata" : { },
      "data" : {
        "text/html" : ""
      },
      "output_type" : "execute_result",
      "execution_count" : 5,
      "time" : "Took: 0.799s, at 2018-07-06 01:11"
    } ]
  }, {
    "metadata" : {
      "trusted" : true,
      "input_collapsed" : false,
      "collapsed" : false,
      "id" : "8E5681568DB847A58F41D34E605D7EA4"
    },
    "cell_type" : "code",
    "source" : [ "case class Coordinates(lat:Double, lon: Double) {\n", "  val R = 6378.137 \n", "  def distanceTo(other: Coordinates): Double = {\n", "    def sqr(x: Double): Double = Math.pow(x, 2.0)\n", "    def rad(x: Double): Double = x *  Math.PI / 180     \n", "    val deltaLat = rad(other.lat) - rad(this.lat)\n", "    val deltaLon = rad(other.lon) - rad(this.lon)\n", "    val a = sqr(Math.sin(deltaLat/2)) + Math.cos(rad(this.lat)) * Math.cos(rad(other.lat)) *\n", "      sqr(Math.sin(deltaLon/2))\n", "    val c = 2 * Math.atan2(Math.sqrt(a), Math.sqrt(1-a))\n", "    R * c * 1000// result in meters\n", "  }\n", "}" ],
    "outputs" : [ {
      "name" : "stdout",
      "output_type" : "stream",
      "text" : "defined class Coordinates\n"
    }, {
      "metadata" : { },
      "data" : {
        "text/html" : ""
      },
      "output_type" : "execute_result",
      "execution_count" : 6,
      "time" : "Took: 0.968s, at 2018-07-06 01:11"
    } ]
  }, {
    "metadata" : {
      "trusted" : true,
      "input_collapsed" : false,
      "collapsed" : false,
      "id" : "04F52045598041C6896F9229EFAA70D4"
    },
    "cell_type" : "code",
    "source" : [ "import java.sql.Timestamp\n", "case class CarLocation(id:String, timestamp: Timestamp, location: Coordinates)" ],
    "outputs" : [ {
      "name" : "stdout",
      "output_type" : "stream",
      "text" : "import java.sql.Timestamp\ndefined class CarLocation\n"
    }, {
      "metadata" : { },
      "data" : {
        "text/html" : ""
      },
      "output_type" : "execute_result",
      "execution_count" : 7,
      "time" : "Took: 0.546s, at 2018-07-06 01:11"
    } ]
  }, {
    "metadata" : {
      "trusted" : true,
      "input_collapsed" : false,
      "collapsed" : false,
      "id" : "85A2C8E377E34B75A79C9E03AD7D61D0"
    },
    "cell_type" : "code",
    "source" : [ "import java.sql.Timestamp\n", "case class TimeLocation(time: Timestamp, location: Coordinates) {\n", "  def speedTo(other: TimeLocation): Double = {\n", "    if (other.time == this.time) 0.0 else {\n", "      val distance = location.distanceTo(other.location) // mts\n", "      val deltaT = Math.abs(time.getTime - other.time.getTime) / 1000 // seconds\n", "      distance/deltaT * 3.6 // km/h\n", "    }\n", "  }\n", "}" ],
    "outputs" : [ {
      "name" : "stdout",
      "output_type" : "stream",
      "text" : "import java.sql.Timestamp\ndefined class TimeLocation\n"
    }, {
      "metadata" : { },
      "data" : {
        "text/html" : ""
      },
      "output_type" : "execute_result",
      "execution_count" : 8,
      "time" : "Took: 0.601s, at 2018-07-06 01:11"
    } ]
  }, {
    "metadata" : {
      "trusted" : true,
      "input_collapsed" : false,
      "collapsed" : false,
      "id" : "1377F3D2251B4CD384CD233F7F77A572"
    },
    "cell_type" : "code",
    "source" : [ "val carLocationData = formattedData.as[CarLocation]" ],
    "outputs" : [ {
      "name" : "stdout",
      "output_type" : "stream",
      "text" : "carLocationData: org.apache.spark.sql.Dataset[CarLocation] = [id: string, timestamp: timestamp ... 1 more field]\n"
    }, {
      "metadata" : { },
      "data" : {
        "text/html" : ""
      },
      "output_type" : "execute_result",
      "execution_count" : 9,
      "time" : "Took: 0.936s, at 2018-07-06 01:11"
    } ]
  }, {
    "metadata" : {
      "trusted" : true,
      "input_collapsed" : false,
      "collapsed" : false,
      "id" : "8C46779BB8C3416C85F20196458606B6"
    },
    "cell_type" : "code",
    "source" : [ "val timeCarLocationData = carLocationData.orderBy(\"timestamp\")" ],
    "outputs" : [ {
      "name" : "stdout",
      "output_type" : "stream",
      "text" : "timeCarLocationData: org.apache.spark.sql.Dataset[CarLocation] = [id: string, timestamp: timestamp ... 1 more field]\n"
    }, {
      "metadata" : { },
      "data" : {
        "text/html" : ""
      },
      "output_type" : "execute_result",
      "execution_count" : 10,
      "time" : "Took: 0.650s, at 2018-07-06 01:11"
    } ]
  }, {
    "metadata" : {
      "trusted" : true,
      "input_collapsed" : false,
      "collapsed" : false,
      "presentation" : {
        "tabs_state" : "{\n  \"tab_id\": \"#tab2077667489-0\"\n}",
        "pivot_chart_state" : "{\n  \"hiddenAttributes\": [],\n  \"menuLimit\": 200,\n  \"cols\": [],\n  \"rows\": [],\n  \"vals\": [],\n  \"exclusions\": {},\n  \"inclusions\": {},\n  \"unusedAttrsVertical\": 85,\n  \"autoSortUnusedAttrs\": false,\n  \"inclusionsInfo\": {},\n  \"aggregatorName\": \"Count\",\n  \"rendererName\": \"Table\"\n}"
      },
      "id" : "E79F90DC813F412D80438BD3A15CC0E1"
    },
    "cell_type" : "code",
    "source" : [ "timeCarLocationData.show(5)" ],
    "outputs" : [ {
      "name" : "stdout",
      "output_type" : "stream",
      "text" : "+---+-------------------+--------------------+\n| id|          timestamp|            location|\n+---+-------------------+--------------------+\n|  1|2008-02-02 15:36:08|[39.92123,116.51172]|\n|  1|2008-02-02 15:46:08|[39.93883,116.51135]|\n|  1|2008-02-02 15:46:08|[39.93883,116.51135]|\n|  1|2008-02-02 15:56:08|[39.91034,116.51627]|\n|  1|2008-02-02 16:06:08|[39.91248,116.47186]|\n+---+-------------------+--------------------+\nonly showing top 5 rows\n\n"
    }, {
      "metadata" : { },
      "data" : {
        "text/html" : ""
      },
      "output_type" : "execute_result",
      "execution_count" : 11,
      "time" : "Took: 1.195s, at 2018-07-06 01:11"
    } ]
  }, {
    "metadata" : {
      "trusted" : true,
      "input_collapsed" : false,
      "collapsed" : false,
      "id" : "987C7BD12642452C8C98EE1D42ADCB73"
    },
    "cell_type" : "code",
    "source" : [ "trait CarState" ],
    "outputs" : [ {
      "name" : "stdout",
      "output_type" : "stream",
      "text" : "defined trait CarState\n"
    }, {
      "metadata" : { },
      "data" : {
        "text/html" : ""
      },
      "output_type" : "execute_result",
      "execution_count" : 12,
      "time" : "Took: 0.506s, at 2018-07-06 01:11"
    } ]
  }, {
    "metadata" : {
      "trusted" : true,
      "input_collapsed" : false,
      "collapsed" : false,
      "id" : "98555F1C4A08435A8D5CAE7D042771AD"
    },
    "cell_type" : "code",
    "source" : [ "object CarStates {\n", "  case object Unknown extends CarState\n", "  case object Driving extends CarState\n", "  case object Stopped extends CarState\n", "}" ],
    "outputs" : [ {
      "name" : "stdout",
      "output_type" : "stream",
      "text" : "defined object CarStates\n"
    }, {
      "metadata" : { },
      "data" : {
        "text/html" : ""
      },
      "output_type" : "execute_result",
      "execution_count" : 13,
      "time" : "Took: 0.619s, at 2018-07-06 01:12"
    } ]
  }, {
    "metadata" : {
      "trusted" : true,
      "input_collapsed" : false,
      "collapsed" : false,
      "id" : "563894913AD5425F8F57B3CFDF9C5847"
    },
    "cell_type" : "code",
    "source" : [ "case class TripState(id: String, \n", "                     start: TimeLocation, \n", "                     current: TimeLocation, \n", "                     state: CarState = CarStates.Unknown,\n", "                     end: Option[TimeLocation] = None\n", "                    )" ],
    "outputs" : [ {
      "name" : "stdout",
      "output_type" : "stream",
      "text" : "defined class TripState\n"
    }, {
      "metadata" : { },
      "data" : {
        "text/html" : ""
      },
      "output_type" : "execute_result",
      "execution_count" : 15,
      "time" : "Took: 0.613s, at 2018-07-06 01:12"
    } ]
  }, {
    "metadata" : {
      "trusted" : true,
      "input_collapsed" : false,
      "collapsed" : false,
      "id" : "D0D4B4ACCCB5423899CE17AD4725BBBF"
    },
    "cell_type" : "code",
    "source" : [ "val bxl = Coordinates(50.8503, 4.3517)\n", "val antwerp = Coordinates(51.2194,4.4025)" ],
    "outputs" : [ {
      "name" : "stdout",
      "output_type" : "stream",
      "text" : "bxl: Coordinates = Coordinates(50.8503,4.3517)\nantwerp: Coordinates = Coordinates(51.2194,4.4025)\n"
    }, {
      "metadata" : { },
      "data" : {
        "text/html" : ""
      },
      "output_type" : "execute_result",
      "execution_count" : 16,
      "time" : "Took: 0.625s, at 2018-07-06 01:30"
    } ]
  }, {
    "metadata" : {
      "trusted" : true,
      "input_collapsed" : false,
      "collapsed" : false,
      "id" : "4C0DA30EC0DA4E60BF8DDF75981466D2"
    },
    "cell_type" : "code",
    "source" : [ "bxl.distanceTo(antwerp)" ],
    "outputs" : [ {
      "name" : "stdout",
      "output_type" : "stream",
      "text" : "res21: Double = 41241.62572838361\n"
    }, {
      "metadata" : { },
      "data" : {
        "text/html" : "41241.62572838361"
      },
      "output_type" : "execute_result",
      "execution_count" : 17,
      "time" : "Took: 0.703s, at 2018-07-06 01:30"
    } ]
  }, {
    "metadata" : {
      "trusted" : true,
      "input_collapsed" : false,
      "collapsed" : false,
      "id" : "2D70B8BEBD8E44FA883F1EFE1714C833"
    },
    "cell_type" : "code",
    "source" : [ "val now = System.currentTimeMillis\n", "val bxlPickup = TimeLocation(new Timestamp(now), bxl)\n", "val waitInbxlPickup = TimeLocation(new Timestamp(now+11*60*1000), bxl)\n", "val antwerpDrop = TimeLocation(new Timestamp(now + 30*60*1000), antwerp)" ],
    "outputs" : [ {
      "name" : "stdout",
      "output_type" : "stream",
      "text" : "now: Long = 1530833439311\nbxlPickup: TimeLocation = TimeLocation(2018-07-06 01:30:39.311,Coordinates(50.8503,4.3517))\nwaitInbxlPickup: TimeLocation = TimeLocation(2018-07-06 01:41:39.311,Coordinates(50.8503,4.3517))\nantwerpDrop: TimeLocation = TimeLocation(2018-07-06 02:00:39.311,Coordinates(51.2194,4.4025))\n"
    }, {
      "metadata" : { },
      "data" : {
        "text/html" : ""
      },
      "output_type" : "execute_result",
      "execution_count" : 18,
      "time" : "Took: 0.564s, at 2018-07-06 01:30"
    } ]
  }, {
    "metadata" : {
      "trusted" : true,
      "input_collapsed" : false,
      "collapsed" : false,
      "id" : "8982B958C9EF499686FAB6EAAAACEDD0"
    },
    "cell_type" : "code",
    "source" : [ "val adrop = antwerpDrop.speedTo(bxlPickup) " ],
    "outputs" : [ {
      "name" : "stdout",
      "output_type" : "stream",
      "text" : "adrop: Double = 82.48325145676722\n"
    }, {
      "metadata" : { },
      "data" : {
        "text/html" : ""
      },
      "output_type" : "execute_result",
      "execution_count" : 19,
      "time" : "Took: 0.632s, at 2018-07-06 01:30"
    } ]
  }, {
    "metadata" : {
      "trusted" : true,
      "input_collapsed" : false,
      "collapsed" : false,
      "id" : "47F0F7A14BFC497485F57623CB436244"
    },
    "cell_type" : "code",
    "source" : [ "// We define that a trip ended when the car stops for longer than 10 minutes \n", "def stoppedCriteria(tl1: TimeLocation, tl2: TimeLocation): Boolean = {\n", "  val tenMinutesInMs = 10 * 60 * 1000\n", "  val isNotMoving = tl1.speedTo(tl2) < 1  // We cannot compare exact locations to allow for GPS fluctuations \n", "  val elapsedTime = Math.abs(tl2.time.getTime - tl1.time.getTime) \n", "  isNotMoving && elapsedTime > tenMinutesInMs\n", "}" ],
    "outputs" : [ {
      "name" : "stdout",
      "output_type" : "stream",
      "text" : "stoppedCriteria: (tl1: TimeLocation, tl2: TimeLocation)Boolean\n"
    }, {
      "metadata" : { },
      "data" : {
        "text/html" : ""
      },
      "output_type" : "execute_result",
      "execution_count" : 20,
      "time" : "Took: 0.530s, at 2018-07-06 01:30"
    } ]
  }, {
    "metadata" : {
      "trusted" : true,
      "input_collapsed" : false,
      "collapsed" : false,
      "id" : "EE3EE679D04044EEAA8AE160B3C8A059"
    },
    "cell_type" : "code",
    "source" : [ "stoppedCriteria(bxlPickup, waitInbxlPickup)" ],
    "outputs" : [ {
      "name" : "stdout",
      "output_type" : "stream",
      "text" : "res28: Boolean = true\n"
    }, {
      "metadata" : { },
      "data" : {
        "text/html" : "true"
      },
      "output_type" : "execute_result",
      "execution_count" : 22,
      "time" : "Took: 0.750s, at 2018-07-06 01:46"
    } ]
  }, {
    "metadata" : {
      "trusted" : true,
      "input_collapsed" : false,
      "collapsed" : true,
      "id" : "301384050DAE444A87CEDFC201CD8F4D"
    },
    "cell_type" : "code",
    "source" : [ "" ],
    "outputs" : [ ]
  }, {
    "metadata" : {
      "trusted" : true,
      "input_collapsed" : false,
      "collapsed" : false,
      "id" : "D48401133D604D4E881D929253E1588E"
    },
    "cell_type" : "code",
    "source" : [ "def updateTripStateWithCarLocation(state: TripState, event: CarLocation): TripState = {\n", "  import CarStates._\n", "    state.current.time.compareTo(event.timestamp) match {\n", "    case 0 =>  // same timestamp => probably duplicated record. Do nothing: return same state\n", "      state\n", "    case -1 => // state.currentTime < event.timestamp => check update of start time\n", "      if (state.start.time.before(event.timestamp)) {\n", "        state.copy(start = TimeLocation(event.timestamp, event.location))\n", "      } else {\n", "        state\n", "      }\n", "    case 1 => // state.current.time > event.timestamp => update state\n", "      val currentTimeLocation = TimeLocation(event.timestamp, event.location)\n", "      val isMoving = state.current.speedTo(currentTimeLocation) > 1 // km/h\n", "      (isMoving, state.state) match {\n", "        case (true, Unknown) => state.copy(state= Driving, current = currentTimeLocation)\n", "        case (false, Unknown) => state.copy(state= Stopped, current = currentTimeLocation)\n", "        case (true, Driving )=> state.copy(current= currentTimeLocation)\n", "        case (false, Driving) => state.copy(state= Stopped)\n", "        case (true, Stopped) => state.copy(state= Driving, current = currentTimeLocation)\n", "        case (false, Stopped) => state.copy(end = Some(state.current))\n", "      }\n", "  }\n", "}" ],
    "outputs" : [ {
      "name" : "stdout",
      "output_type" : "stream",
      "text" : "<console>:94: warning: match may not be exhaustive.\nIt would fail on the following inputs: (false, _), (true, _)\n             (isMoving, state.state) match {\n             ^\nupdateTripStateWithCarLocation: (state: TripState, event: CarLocation)TripState\n"
    }, {
      "metadata" : { },
      "data" : {
        "text/html" : ""
      },
      "output_type" : "execute_result",
      "execution_count" : 24,
      "time" : "Took: 0.713s, at 2018-07-06 01:50"
    } ]
  }, {
    "metadata" : {
      "trusted" : true,
      "input_collapsed" : false,
      "collapsed" : false,
      "id" : "4DDCF76C5FCA4B78B11C3C3E79B01D3D"
    },
    "cell_type" : "code",
    "source" : [ "import org.apache.spark.sql.streaming.{GroupStateTimeout, OutputMode, GroupState}\n", "\n", "def processTripsByCarId(id: String, inputs: Iterator[CarLocation], prevState: GroupState[TripState]): Iterator[TripState] = {\n", "  val updateFunction: (TripState, CarLocation) => TripState = {case (tripState, carLocation) => updateTripStateWithCarLocation(tripState, carLocation)}\n", "  val state = if (prevState.exists) {\n", "    inputs.foldLeft(prevState.get)(updateFunction)\n", "  } else {\n", "    val head = inputs.next\n", "    val initialTimeLocation = TimeLocation(head.timestamp, head.location)\n", "    val initialState = TripState(id, initialTimeLocation, initialTimeLocation)\n", "    inputs.foldLeft(initialState)(updateFunction)\n", "  }\n", "  \n", "  if (state.end.isDefined) { \n", "    Seq(state).toIterator\n", "  } else {\n", "    Seq.empty[TripState].toIterator\n", "  }\n", "  \n", "}" ],
    "outputs" : [ {
      "name" : "stdout",
      "output_type" : "stream",
      "text" : "import org.apache.spark.sql.streaming.{GroupStateTimeout, OutputMode, GroupState}\nprocessTripsByCarId: (id: String, inputs: Iterator[CarLocation], prevState: org.apache.spark.sql.streaming.GroupState[TripState])Iterator[TripState]\n"
    }, {
      "metadata" : { },
      "data" : {
        "text/html" : ""
      },
      "output_type" : "execute_result",
      "execution_count" : 25,
      "time" : "Took: 0.584s, at 2018-07-06 01:50"
    } ]
  }, {
    "metadata" : {
      "trusted" : true,
      "input_collapsed" : false,
      "collapsed" : false,
      "id" : "F26C42ACE5C4444C8BF68FC7F555765D"
    },
    "cell_type" : "markdown",
    "source" : "## Create a Stream using the loaded Car Data"
  }, {
    "metadata" : {
      "trusted" : true,
      "input_collapsed" : false,
      "collapsed" : false,
      "id" : "10F68E58FA4B4D80AAD6C5F86BC8B140"
    },
    "cell_type" : "code",
    "source" : [ "val indexedData = timeCarLocationData.withColumn(\"index\", monotonically_increasing_id())" ],
    "outputs" : [ {
      "name" : "stdout",
      "output_type" : "stream",
      "text" : "indexedData: org.apache.spark.sql.DataFrame = [id: string, timestamp: timestamp ... 2 more fields]\n"
    }, {
      "metadata" : { },
      "data" : {
        "text/html" : ""
      },
      "output_type" : "execute_result",
      "execution_count" : 26,
      "time" : "Took: 0.519s, at 2018-07-06 01:50"
    } ]
  }, {
    "metadata" : {
      "trusted" : true,
      "input_collapsed" : false,
      "collapsed" : false,
      "id" : "D15A82B0C7434BFF837F149460FE222C"
    },
    "cell_type" : "code",
    "source" : [ "indexedData.show(10)" ],
    "outputs" : [ {
      "name" : "stdout",
      "output_type" : "stream",
      "text" : "+---+-------------------+--------------------+-----+\n| id|          timestamp|            location|index|\n+---+-------------------+--------------------+-----+\n|  1|2008-02-02 15:36:08|[39.92123,116.51172]|    0|\n|  1|2008-02-02 15:46:08|[39.93883,116.51135]|    1|\n|  1|2008-02-02 15:46:08|[39.93883,116.51135]|    2|\n|  1|2008-02-02 15:56:08|[39.91034,116.51627]|    3|\n|  1|2008-02-02 16:06:08|[39.91248,116.47186]|    4|\n|  1|2008-02-02 16:16:08|[39.92498,116.47217]|    5|\n|  1|2008-02-02 16:26:08|[39.90718,116.47179]|    6|\n|  1|2008-02-02 16:36:08|[39.90531,116.45617]|    7|\n|  1|2008-02-02 17:00:24|[39.90577,116.47191]|    8|\n|  1|2008-02-02 17:10:24| [39.9145,116.50661]|    9|\n+---+-------------------+--------------------+-----+\nonly showing top 10 rows\n\n"
    }, {
      "metadata" : { },
      "data" : {
        "text/html" : ""
      },
      "output_type" : "execute_result",
      "execution_count" : 27,
      "time" : "Took: 0.771s, at 2018-07-06 01:50"
    } ]
  }, {
    "metadata" : {
      "trusted" : true,
      "input_collapsed" : false,
      "collapsed" : false,
      "id" : "D7B4F5B56232459284ACC8617018017A"
    },
    "cell_type" : "code",
    "source" : [ "// generate a rate stream of 1 row per second. Keep only the 'value' field\n", "val stream = sparkSession.readStream.format(\"rate\").option(\"rowsPerSecond\", 10).load().select($\"value\") " ],
    "outputs" : [ {
      "name" : "stdout",
      "output_type" : "stream",
      "text" : "stream: org.apache.spark.sql.DataFrame = [value: bigint]\n"
    }, {
      "metadata" : { },
      "data" : {
        "text/html" : ""
      },
      "output_type" : "execute_result",
      "execution_count" : 28,
      "time" : "Took: 0.537s, at 2018-07-06 01:50"
    } ]
  }, {
    "metadata" : {
      "trusted" : true,
      "input_collapsed" : false,
      "collapsed" : false,
      "id" : "6D8073E60DAC4B88AA8CC9AE410813C1"
    },
    "cell_type" : "code",
    "source" : [ "// We create the stream by joining a portion of the static dataset with the `Rate` Stream\n", "val carDataStream = stream.join(indexedData, $\"value\" === $\"index\").select($\"id\", $\"timestamp\", $\"location\").as[CarLocation] \n" ],
    "outputs" : [ {
      "name" : "stdout",
      "output_type" : "stream",
      "text" : "carDataStream: org.apache.spark.sql.Dataset[CarLocation] = [id: string, timestamp: timestamp ... 1 more field]\n"
    }, {
      "metadata" : { },
      "data" : {
        "text/html" : ""
      },
      "output_type" : "execute_result",
      "execution_count" : 34,
      "time" : "Took: 0.528s, at 2018-07-05 21:36"
    } ]
  }, {
    "metadata" : {
      "trusted" : true,
      "input_collapsed" : false,
      "collapsed" : false,
      "id" : "B4E95802054842D98B716AA844890CB4"
    },
    "cell_type" : "code",
    "source" : [ "carDataStream.printSchema" ],
    "outputs" : [ {
      "name" : "stdout",
      "output_type" : "stream",
      "text" : "root\n |-- id: string (nullable = true)\n |-- timestamp: timestamp (nullable = true)\n |-- location: struct (nullable = false)\n |    |-- lat: double (nullable = true)\n |    |-- lon: double (nullable = true)\n\n"
    }, {
      "metadata" : { },
      "data" : {
        "text/html" : ""
      },
      "output_type" : "execute_result",
      "execution_count" : 35,
      "time" : "Took: 0.590s, at 2018-07-05 21:36"
    } ]
  }, {
    "metadata" : {
      "trusted" : true,
      "input_collapsed" : false,
      "collapsed" : false,
      "id" : "BC0873B3A3C74FE884A5B1F0952AAD36"
    },
    "cell_type" : "code",
    "source" : [ "import org.apache.spark.sql.streaming.OutputMode\n", "import org.apache.spark.sql.streaming.{GroupStateTimeout, OutputMode, GroupState}\n", "val tripStream = carDataStream.groupByKey(carLocation => carLocation.id)\n", ".flatMapGroupsWithState(OutputMode.Append,GroupStateTimeout.ProcessingTimeTimeout)(processTripsByCarId)" ],
    "outputs" : [ {
      "name" : "stdout",
      "output_type" : "stream",
      "text" : "import org.apache.spark.sql.streaming.OutputMode\nimport org.apache.spark.sql.streaming.{GroupStateTimeout, OutputMode, GroupState}\ntripStream: org.apache.spark.sql.Dataset[TripState] = [id: string, start: struct<time: timestamp, location: struct<lat: double, lon: double>> ... 2 more fields]\n"
    }, {
      "metadata" : { },
      "data" : {
        "text/html" : ""
      },
      "output_type" : "execute_result",
      "execution_count" : 36,
      "time" : "Took: 0.721s, at 2018-07-05 21:36"
    } ]
  }, {
    "metadata" : {
      "trusted" : true,
      "input_collapsed" : false,
      "collapsed" : false,
      "id" : "58A71D10C5094343886774382CC07847"
    },
    "cell_type" : "code",
    "source" : [ "val query = tripStream.writeStream.format(\"memory\").queryName(\"trips\").start" ],
    "outputs" : [ {
      "name" : "stdout",
      "output_type" : "stream",
      "text" : "query: org.apache.spark.sql.streaming.StreamingQuery = org.apache.spark.sql.execution.streaming.StreamingQueryWrapper@6d5ef901\n"
    }, {
      "metadata" : { },
      "data" : {
        "text/html" : ""
      },
      "output_type" : "execute_result",
      "execution_count" : 37,
      "time" : "Took: 0.744s, at 2018-07-05 21:36"
    } ]
  }, {
    "metadata" : {
      "trusted" : true,
      "input_collapsed" : false,
      "collapsed" : false,
      "id" : "D23B587731A74B618F682073B7A21E7A"
    },
    "cell_type" : "code",
    "source" : [ "val table = sparkSession.sql(\"select * from trips\")\n" ],
    "outputs" : [ {
      "name" : "stdout",
      "output_type" : "stream",
      "text" : "table: org.apache.spark.sql.DataFrame = [id: string, start: struct<time: timestamp, location: struct<lat: double, lon: double>> ... 2 more fields]\n"
    }, {
      "metadata" : { },
      "data" : {
        "text/html" : ""
      },
      "output_type" : "execute_result",
      "execution_count" : 39,
      "time" : "Took: 0.738s, at 2018-07-05 21:36"
    } ]
  }, {
    "metadata" : {
      "trusted" : true,
      "input_collapsed" : false,
      "collapsed" : false,
      "id" : "103E2AA364A845BF8A027BF4CE709331"
    },
    "cell_type" : "code",
    "source" : [ "table.show()" ],
    "outputs" : [ {
      "name" : "stdout",
      "output_type" : "stream",
      "text" : "+---+-----+-------+---+\n| id|start|current|end|\n+---+-----+-------+---+\n+---+-----+-------+---+\n\n"
    }, {
      "metadata" : { },
      "data" : {
        "text/html" : ""
      },
      "output_type" : "execute_result",
      "execution_count" : 44,
      "time" : "Took: 0.877s, at 2018-07-05 21:38"
    } ]
  }, {
    "metadata" : {
      "trusted" : true,
      "input_collapsed" : false,
      "output_stream_collapsed" : true,
      "collapsed" : true,
      "id" : "F7CB2881F249477FAAD05A68F4D759FB"
    },
    "cell_type" : "code",
    "source" : [ "" ],
    "outputs" : [ ]
  }, {
    "metadata" : {
      "trusted" : true,
      "input_collapsed" : false,
      "collapsed" : false,
      "id" : "9786513E495D4B0E8F8A7D98EB63BAD1"
    },
    "cell_type" : "code",
    "source" : [ "query.stop()" ],
    "outputs" : [ {
      "metadata" : { },
      "data" : {
        "text/html" : ""
      },
      "output_type" : "execute_result",
      "execution_count" : 45,
      "time" : "Took: 1.763s, at 2018-07-05 21:39"
    } ]
  }, {
    "metadata" : {
      "trusted" : true,
      "input_collapsed" : false,
      "collapsed" : false,
      "id" : "8F6D6705181F4168BC07EACA00A2D764"
    },
    "cell_type" : "code",
    "source" : [ "query.lastProgress\n" ],
    "outputs" : [ {
      "name" : "stdout",
      "output_type" : "stream",
      "text" : "res58: org.apache.spark.sql.streaming.StreamingQueryProgress =\n{\n  \"id\" : \"54f78dc4-f77f-4c28-a863-7bbef3073f7f\",\n  \"runId\" : \"5d9b3307-f895-46da-ab86-89cb6ced628d\",\n  \"name\" : \"trips\",\n  \"timestamp\" : \"2018-07-05T19:37:28.066Z\",\n  \"numInputRows\" : 10,\n  \"inputRowsPerSecond\" : 10.40582726326743,\n  \"processedRowsPerSecond\" : 10.40582726326743,\n  \"durationMs\" : {\n    \"addBatch\" : 898,\n    \"getBatch\" : 4,\n    \"getOffset\" : 0,\n    \"queryPlanning\" : 47,\n    \"triggerExecution\" : 961,\n    \"walCommit\" : 9\n  },\n  \"stateOperators\" : [ {\n    \"numRowsTotal\" : 0,\n    \"numRowsUpdated\" : 0\n  } ],\n  \"sources\" : [ {\n    \"description\" : \"RateSource[rowsPerSecond=10, rampUpTimeSeconds=0, numPartitions=8]\",\n    \"startOffset\" : 52,\n    \"endOffset\" : 53,\n    \"numInputRows\" : 10,\n    \"inputRowsPerSecond\" : 10..."
    }, {
      "metadata" : { },
      "data" : {
        "text/html" : "{\n  &quot;id&quot; : &quot;54f78dc4-f77f-4c28-a863-7bbef3073f7f&quot;,\n  &quot;runId&quot; : &quot;5d9b3307-f895-46da-ab86-89cb6ced628d&quot;,\n  &quot;name&quot; : &quot;trips&quot;,\n  &quot;timestamp&quot; : &quot;2018-07-05T19:37:28.066Z&quot;,\n  &quot;numInputRows&quot; : 10,\n  &quot;inputRowsPerSecond&quot; : 10.40582726326743,\n  &quot;processedRowsPerSecond&quot; : 10.40582726326743,\n  &quot;durationMs&quot; : {\n    &quot;addBatch&quot; : 898,\n    &quot;getBatch&quot; : 4,\n    &quot;getOffset&quot; : 0,\n    &quot;queryPlanning&quot; : 47,\n    &quot;triggerExecution&quot; : 961,\n    &quot;walCommit&quot; : 9\n  },\n  &quot;stateOperators&quot; : [ {\n    &quot;numRowsTotal&quot; : 0,\n    &quot;numRowsUpdated&quot; : 0\n  } ],\n  &quot;sources&quot; : [ {\n    &quot;description&quot; : &quot;RateSource[rowsPerSecond=10, rampUpTimeSeconds=0, numPartitions=8]&quot;,\n    &quot;startOffset&quot; : 52,\n    &quot;endOffset&quot; : 53,\n    &quot;numInputRows&quot; : 10,\n    &quot;inputRowsPerSecond&quot; : 10.40582726326743,\n    &quot;processedRowsPerSecond&quot; : 10.40582726326743\n  } ],\n  &quot;sink&quot; : {\n    &quot;description&quot; : &quot;MemorySink&quot;\n  }\n}"
      },
      "output_type" : "execute_result",
      "execution_count" : 43,
      "time" : "Took: 0.805s, at 2018-07-05 21:37"
    } ]
  }, {
    "metadata" : {
      "trusted" : true,
      "input_collapsed" : false,
      "collapsed" : true,
      "id" : "A8EF4EE96C604051BCC573E708CF2767"
    },
    "cell_type" : "code",
    "source" : [ "" ],
    "outputs" : [ ]
  } ],
  "nbformat" : 4
}